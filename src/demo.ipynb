{
 "cells": [
  {
   "cell_type": "code",
   "execution_count": 1,
   "id": "f871f100",
   "metadata": {},
   "outputs": [
    {
     "name": "stdout",
     "output_type": "stream",
     "text": [
      "pygame 2.6.1 (SDL 2.28.4, Python 3.10.17)\n",
      "Hello from the pygame community. https://www.pygame.org/contribute.html\n"
     ]
    }
   ],
   "source": [
    "from testing import test_agents, render_episodes"
   ]
  },
  {
   "cell_type": "markdown",
   "id": "836728c4",
   "metadata": {},
   "source": [
    "## Single-Layout Self-Play Demo"
   ]
  },
  {
   "cell_type": "code",
   "execution_count": 13,
   "id": "68f53671",
   "metadata": {},
   "outputs": [],
   "source": [
    "LAYOUTS = [\n",
    "    \"cramped_room\",\n",
    "    \"asymmetric_advantages\",\n",
    "    \"coordination_ring\",\n",
    "    \"forced_coordination\",\n",
    "    \"counter_circuit_o_1order\",\n",
    "]"
   ]
  },
  {
   "cell_type": "code",
   "execution_count": 14,
   "id": "e18b1943",
   "metadata": {},
   "outputs": [
    {
     "name": "stdout",
     "output_type": "stream",
     "text": [
      "['cramped_room_selfplay.pth', 'cramped_room_selfplay.pth']\n",
      "Testing layout: cramped_room\n",
      "Evaluation Results:\n",
      "Layout: cramped_room - Average Reward: 203.4 , Standard Deviation: 9.40, Average Soup Count: 10.17\n",
      "\n",
      "['asymmetric_advantages_selfplay.pth', 'asymmetric_advantages_selfplay.pth']\n",
      "Testing layout: asymmetric_advantages\n",
      "Evaluation Results:\n",
      "Layout: asymmetric_advantages - Average Reward: 373.0 , Standard Deviation: 22.34, Average Soup Count: 18.65\n",
      "\n",
      "['coordination_ring_selfplay.pth', 'coordination_ring_selfplay.pth']\n",
      "Testing layout: coordination_ring\n",
      "Evaluation Results:\n",
      "Layout: coordination_ring - Average Reward: 155.8 , Standard Deviation: 8.62, Average Soup Count: 7.79\n",
      "\n",
      "['forced_coordination_selfplay.pth', 'forced_coordination_selfplay.pth']\n",
      "Testing layout: forced_coordination\n",
      "Evaluation Results:\n",
      "Layout: forced_coordination - Average Reward: 147.6 , Standard Deviation: 12.89, Average Soup Count: 7.38\n",
      "\n",
      "['counter_circuit_o_1order_selfplay.pth', 'counter_circuit_o_1order_selfplay.pth']\n",
      "Testing layout: counter_circuit_o_1order\n",
      "Evaluation Results:\n",
      "Layout: counter_circuit_o_1order - Average Reward: 131.6 , Standard Deviation: 11.38, Average Soup Count: 6.58\n",
      "\n"
     ]
    }
   ],
   "source": [
    "for layout in LAYOUTS:\n",
    "    test_agents(agents=[f\"{layout}_selfplay\"], layouts=[layout])"
   ]
  },
  {
   "cell_type": "code",
   "execution_count": 15,
   "id": "94fdb4d6",
   "metadata": {},
   "outputs": [
    {
     "name": "stdout",
     "output_type": "stream",
     "text": [
      "['cramped_room_selfplay.pth', 'cramped_room_selfplay.pth']\n",
      "Rendering: Layout: cramped_room - Final Reward: 200 - Soup Count: 10\n",
      "['asymmetric_advantages_selfplay.pth', 'asymmetric_advantages_selfplay.pth']\n",
      "Rendering: Layout: asymmetric_advantages - Final Reward: 380 - Soup Count: 19\n",
      "['coordination_ring_selfplay.pth', 'coordination_ring_selfplay.pth']\n",
      "Rendering: Layout: coordination_ring - Final Reward: 160 - Soup Count: 8\n",
      "['forced_coordination_selfplay.pth', 'forced_coordination_selfplay.pth']\n",
      "Rendering: Layout: forced_coordination - Final Reward: 140 - Soup Count: 7\n",
      "['counter_circuit_o_1order_selfplay.pth', 'counter_circuit_o_1order_selfplay.pth']\n",
      "Rendering: Layout: counter_circuit_o_1order - Final Reward: 100 - Soup Count: 5\n"
     ]
    }
   ],
   "source": [
    "for layout in LAYOUTS:\n",
    "    render_episodes(agents=[f\"{layout}_selfplay\"], layouts=[layout])"
   ]
  },
  {
   "cell_type": "markdown",
   "id": "779e8a49",
   "metadata": {},
   "source": [
    "## Generalized Self-play Demo"
   ]
  },
  {
   "cell_type": "code",
   "execution_count": 16,
   "id": "a41d1a7a",
   "metadata": {},
   "outputs": [],
   "source": [
    "LAYOUTS = [\n",
    "    \"cramped_room\",\n",
    "    \"asymmetric_advantages\",\n",
    "    \"coordination_ring\",\n",
    "    \"simple_o\",\n",
    "    \"forced_coordination\",\n",
    "    \"counter_circuit_o_1order\",\n",
    "]"
   ]
  },
  {
   "cell_type": "code",
   "execution_count": 17,
   "id": "82e8165b",
   "metadata": {},
   "outputs": [
    {
     "name": "stdout",
     "output_type": "stream",
     "text": [
      "['generalized_selfplay.pth', 'generalized_selfplay.pth']\n",
      "Testing layout: cramped_room\n",
      "Testing layout: asymmetric_advantages\n",
      "Testing layout: coordination_ring\n",
      "Testing layout: simple_o\n",
      "Testing layout: forced_coordination\n",
      "Testing layout: counter_circuit_o_1order\n",
      "Evaluation Results:\n",
      "Layout: cramped_room - Average Reward: 203.6 , Standard Deviation: 11.09, Average Soup Count: 10.18\n",
      "\n",
      "Layout: asymmetric_advantages - Average Reward: 218.4 , Standard Deviation: 17.13, Average Soup Count: 10.92\n",
      "\n",
      "Layout: coordination_ring - Average Reward: 137.6 , Standard Deviation: 11.76, Average Soup Count: 6.88\n",
      "\n",
      "Layout: simple_o - Average Reward: 27.8 , Standard Deviation: 14.39, Average Soup Count: 1.39\n",
      "\n",
      "Layout: forced_coordination - Average Reward: 0.0 , Standard Deviation: 0.00, Average Soup Count: 0.0\n",
      "\n",
      "Layout: counter_circuit_o_1order - Average Reward: 0.0 , Standard Deviation: 0.00, Average Soup Count: 0.0\n",
      "\n"
     ]
    }
   ],
   "source": [
    "test_agents(agents=[\"generalized_selfplay\"], layouts=LAYOUTS)"
   ]
  },
  {
   "cell_type": "code",
   "execution_count": 18,
   "id": "bdd700fa",
   "metadata": {},
   "outputs": [
    {
     "name": "stdout",
     "output_type": "stream",
     "text": [
      "['generalized_selfplay.pth', 'generalized_selfplay.pth']\n",
      "Rendering: Layout: cramped_room - Final Reward: 200 - Soup Count: 10\n",
      "Rendering: Layout: asymmetric_advantages - Final Reward: 220 - Soup Count: 11\n",
      "Rendering: Layout: coordination_ring - Final Reward: 140 - Soup Count: 7\n",
      "Rendering: Layout: simple_o - Final Reward: 20 - Soup Count: 1\n",
      "Rendering: Layout: forced_coordination - Final Reward: 0 - Soup Count: 0\n",
      "Rendering: Layout: counter_circuit_o_1order - Final Reward: 0 - Soup Count: 0\n"
     ]
    }
   ],
   "source": [
    "render_episodes(agents=[\"generalized_selfplay\"], layouts=LAYOUTS)"
   ]
  },
  {
   "cell_type": "markdown",
   "id": "6bd32d85",
   "metadata": {},
   "source": [
    "## Single-Layout Randomized Demo"
   ]
  },
  {
   "cell_type": "code",
   "execution_count": 2,
   "id": "2532298c",
   "metadata": {},
   "outputs": [],
   "source": [
    "LAYOUTS = [\n",
    "    \"cramped_room\",\n",
    "    \"asymmetric_advantages\",\n",
    "    \"coordination_ring\",\n",
    "]"
   ]
  },
  {
   "cell_type": "code",
   "execution_count": 20,
   "id": "ed0114ed",
   "metadata": {},
   "outputs": [
    {
     "name": "stdout",
     "output_type": "stream",
     "text": [
      "['cramped_room_random.pth', 'random']\n",
      "Testing layout: cramped_room\n",
      "Evaluation Results:\n",
      "Layout: cramped_room - Average Reward: 131.6 , Standard Deviation: 22.84, Average Soup Count: 6.58\n",
      "\n",
      "['asymmetric_advantages_random.pth', 'random']\n",
      "Testing layout: asymmetric_advantages\n",
      "Evaluation Results:\n",
      "Layout: asymmetric_advantages - Average Reward: 179.6 , Standard Deviation: 4.88, Average Soup Count: 8.98\n",
      "\n",
      "['coordination_ring_random.pth', 'random']\n",
      "Testing layout: coordination_ring\n",
      "Evaluation Results:\n",
      "Layout: coordination_ring - Average Reward: 54.2 , Standard Deviation: 21.03, Average Soup Count: 2.71\n",
      "\n"
     ]
    }
   ],
   "source": [
    "for layout in LAYOUTS:\n",
    "    test_agents(agents=[f\"{layout}_random\", 'random'], layouts=[layout])"
   ]
  },
  {
   "cell_type": "code",
   "execution_count": 21,
   "id": "14f93036",
   "metadata": {},
   "outputs": [
    {
     "name": "stdout",
     "output_type": "stream",
     "text": [
      "['cramped_room_random.pth', 'idle']\n",
      "Rendering: Layout: cramped_room - Final Reward: 160 - Soup Count: 8\n",
      "['asymmetric_advantages_random.pth', 'idle']\n",
      "Rendering: Layout: asymmetric_advantages - Final Reward: 180 - Soup Count: 9\n",
      "['idle', 'coordination_ring_random.pth']\n",
      "Rendering: Layout: coordination_ring - Final Reward: 140 - Soup Count: 7\n"
     ]
    }
   ],
   "source": [
    "for layout in LAYOUTS:\n",
    "    if layout != 'coordination_ring':\n",
    "        render_episodes(agents=[f\"{layout}_random\", 'idle'], layouts=[layout])\n",
    "    else:\n",
    "        render_episodes(agents=[\"idle\", f\"{layout}_random\"], layouts=[layout])"
   ]
  },
  {
   "cell_type": "code",
   "execution_count": 22,
   "id": "d0cf6d1d",
   "metadata": {},
   "outputs": [
    {
     "name": "stdout",
     "output_type": "stream",
     "text": [
      "['asymmetric_advantages_random_no_entropy.pth', 'asymmetric_advantages_random_no_entropy.pth']\n",
      "Testing layout: asymmetric_advantages\n",
      "Evaluation Results:\n",
      "Layout: asymmetric_advantages - Average Reward: 141.6 , Standard Deviation: 13.17, Average Soup Count: 7.08\n",
      "\n",
      "['asymmetric_advantages_random_no_entropy.pth', 'idle']\n",
      "Testing layout: asymmetric_advantages\n",
      "Evaluation Results:\n",
      "Layout: asymmetric_advantages - Average Reward: 183.6 , Standard Deviation: 24.23, Average Soup Count: 9.18\n",
      "\n",
      "['idle', 'asymmetric_advantages_random_no_entropy.pth']\n",
      "Testing layout: asymmetric_advantages\n",
      "Evaluation Results:\n",
      "Layout: asymmetric_advantages - Average Reward: 0.0 , Standard Deviation: 0.00, Average Soup Count: 0.0\n",
      "\n",
      "['asymmetric_advantages_random_no_entropy.pth', 'random']\n",
      "Testing layout: asymmetric_advantages\n",
      "Evaluation Results:\n",
      "Layout: asymmetric_advantages - Average Reward: 170.2 , Standard Deviation: 20.69, Average Soup Count: 8.51\n",
      "\n",
      "['random', 'asymmetric_advantages_random_no_entropy.pth']\n",
      "Testing layout: asymmetric_advantages\n",
      "Evaluation Results:\n",
      "Layout: asymmetric_advantages - Average Reward: 0.6 , Standard Deviation: 3.41, Average Soup Count: 0.03\n",
      "\n"
     ]
    }
   ],
   "source": [
    "layout = \"asymmetric_advantages\"\n",
    "\n",
    "test_agents(agents=[f\"{layout}_random_no_entropy\"], layouts=[layout])\n",
    "\n",
    "for partner in [\"idle\", \"random\"]:\n",
    "    test_agents(agents=[f\"{layout}_random_no_entropy\", partner], layouts=[layout])\n",
    "    test_agents(agents=[partner, f\"{layout}_random_no_entropy\"], layouts=[layout])"
   ]
  },
  {
   "cell_type": "code",
   "execution_count": 23,
   "id": "38a75936",
   "metadata": {},
   "outputs": [
    {
     "name": "stdout",
     "output_type": "stream",
     "text": [
      "['asymmetric_advantages_random_no_entropy.pth', 'asymmetric_advantages_random_no_entropy.pth']\n",
      "Rendering: Layout: asymmetric_advantages - Final Reward: 140 - Soup Count: 7\n",
      "['asymmetric_advantages_random_no_entropy.pth', 'idle']\n",
      "Rendering: Layout: asymmetric_advantages - Final Reward: 180 - Soup Count: 9\n",
      "['idle', 'asymmetric_advantages_random_no_entropy.pth']\n",
      "Rendering: Layout: asymmetric_advantages - Final Reward: 0 - Soup Count: 0\n",
      "['asymmetric_advantages_random_no_entropy.pth', 'random']\n",
      "Rendering: Layout: asymmetric_advantages - Final Reward: 180 - Soup Count: 9\n",
      "['random', 'asymmetric_advantages_random_no_entropy.pth']\n",
      "Rendering: Layout: asymmetric_advantages - Final Reward: 0 - Soup Count: 0\n"
     ]
    }
   ],
   "source": [
    "render_episodes(agents=[f\"{layout}_random_no_entropy\"], layouts=[layout])\n",
    "\n",
    "for partner in [\"idle\", \"random\"]:\n",
    "    render_episodes(agents=[f\"{layout}_random_no_entropy\", partner], layouts=[layout])\n",
    "    render_episodes(agents=[partner, f\"{layout}_random_no_entropy\"], layouts=[layout])"
   ]
  },
  {
   "cell_type": "markdown",
   "id": "6bcfcf59",
   "metadata": {},
   "source": [
    "## Generalized Randomized Demo"
   ]
  },
  {
   "cell_type": "code",
   "execution_count": 5,
   "id": "c0a92e46",
   "metadata": {},
   "outputs": [
    {
     "name": "stdout",
     "output_type": "stream",
     "text": [
      "['generalized_random.pth', 'generalized_random.pth']\n",
      "Testing layout: cramped_room\n",
      "Testing layout: asymmetric_advantages\n",
      "Testing layout: coordination_ring\n",
      "Evaluation Results:\n",
      "Layout: cramped_room - Average Reward: 149.0 , Standard Deviation: 17.75, Average Soup Count: 7.45\n",
      "\n",
      "Layout: asymmetric_advantages - Average Reward: 232.6 , Standard Deviation: 17.59, Average Soup Count: 11.63\n",
      "\n",
      "Layout: coordination_ring - Average Reward: 0.8 , Standard Deviation: 3.92, Average Soup Count: 0.04\n",
      "\n"
     ]
    }
   ],
   "source": [
    "test_agents(agents=[\"generalized_random\"], layouts=LAYOUTS)"
   ]
  },
  {
   "cell_type": "code",
   "execution_count": 6,
   "id": "4bfd4958",
   "metadata": {},
   "outputs": [
    {
     "name": "stdout",
     "output_type": "stream",
     "text": [
      "['generalized_random.pth', 'generalized_random.pth']\n",
      "Rendering: Layout: cramped_room - Final Reward: 160 - Soup Count: 8\n",
      "Rendering: Layout: asymmetric_advantages - Final Reward: 240 - Soup Count: 12\n",
      "Rendering: Layout: coordination_ring - Final Reward: 0 - Soup Count: 0\n"
     ]
    }
   ],
   "source": [
    "render_episodes(agents=[\"generalized_random\"], layouts=LAYOUTS)"
   ]
  },
  {
   "cell_type": "code",
   "execution_count": 7,
   "id": "319c26d8",
   "metadata": {},
   "outputs": [
    {
     "name": "stdout",
     "output_type": "stream",
     "text": [
      "['generalized_random.pth', 'random']\n",
      "Rendering: Layout: cramped_room - Final Reward: 60 - Soup Count: 3\n",
      "Rendering: Layout: asymmetric_advantages - Final Reward: 80 - Soup Count: 4\n",
      "Rendering: Layout: coordination_ring - Final Reward: 0 - Soup Count: 0\n"
     ]
    }
   ],
   "source": [
    "render_episodes(agents=[\"generalized_random\", \"random\"], layouts=LAYOUTS)"
   ]
  },
  {
   "cell_type": "code",
   "execution_count": 8,
   "id": "c4142340",
   "metadata": {},
   "outputs": [
    {
     "name": "stdout",
     "output_type": "stream",
     "text": [
      "['random', 'generalized_random.pth']\n",
      "Rendering: Layout: cramped_room - Final Reward: 80 - Soup Count: 4\n",
      "Rendering: Layout: asymmetric_advantages - Final Reward: 0 - Soup Count: 0\n",
      "Rendering: Layout: coordination_ring - Final Reward: 0 - Soup Count: 0\n"
     ]
    }
   ],
   "source": [
    "render_episodes(agents=['random', \"generalized_random\"], layouts=LAYOUTS)"
   ]
  }
 ],
 "metadata": {
  "kernelspec": {
   "display_name": ".venv",
   "language": "python",
   "name": "python3"
  },
  "language_info": {
   "codemirror_mode": {
    "name": "ipython",
    "version": 3
   },
   "file_extension": ".py",
   "mimetype": "text/x-python",
   "name": "python",
   "nbconvert_exporter": "python",
   "pygments_lexer": "ipython3",
   "version": "3.10.17"
  }
 },
 "nbformat": 4,
 "nbformat_minor": 5
}
