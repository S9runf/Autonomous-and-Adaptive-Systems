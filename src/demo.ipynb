{
 "cells": [
  {
   "cell_type": "code",
   "execution_count": 2,
   "id": "f871f100",
   "metadata": {},
   "outputs": [
    {
     "name": "stdout",
     "output_type": "stream",
     "text": [
      "pygame 2.6.1 (SDL 2.28.4, Python 3.10.17)\n",
      "Hello from the pygame community. https://www.pygame.org/contribute.html\n"
     ]
    }
   ],
   "source": [
    "from testing import test_agents, render_episodes"
   ]
  },
  {
   "cell_type": "markdown",
   "id": "836728c4",
   "metadata": {},
   "source": [
    "## Single-Layout Self-Play Demo"
   ]
  },
  {
   "cell_type": "code",
   "execution_count": 10,
   "id": "68f53671",
   "metadata": {},
   "outputs": [],
   "source": [
    "LAYOUTS = [\n",
    "    \"cramped_room\",\n",
    "    \"asymmetric_advantages\",\n",
    "    \"coordination_ring\",\n",
    "    \"forced_coordination\",\n",
    "    \"counter_circuit_o_1order\",\n",
    "]"
   ]
  },
  {
   "cell_type": "code",
   "execution_count": 11,
   "id": "e18b1943",
   "metadata": {},
   "outputs": [
    {
     "name": "stdout",
     "output_type": "stream",
     "text": [
      "['cramped_room_selfplay.pth', 'cramped_room_selfplay.pth']\n",
      "Testing layout: cramped_room\n",
      "Evaluation Results:\n",
      "Layout: cramped_room - Average Reward: 205.2 , Standard Deviation: 10.05, Average Soup Count: 10.26\n",
      "\n",
      "['asymmetric_advantages_selfplay.pth', 'asymmetric_advantages_selfplay.pth']\n",
      "Testing layout: asymmetric_advantages\n",
      "Evaluation Results:\n",
      "Layout: asymmetric_advantages - Average Reward: 373.6 , Standard Deviation: 18.52, Average Soup Count: 18.68\n",
      "\n",
      "['coordination_ring_selfplay.pth', 'coordination_ring_selfplay.pth']\n",
      "Testing layout: coordination_ring\n",
      "Evaluation Results:\n",
      "Layout: coordination_ring - Average Reward: 156.8 , Standard Deviation: 7.33, Average Soup Count: 7.84\n",
      "\n",
      "['forced_coordination_selfplay.pth', 'forced_coordination_selfplay.pth']\n",
      "Testing layout: forced_coordination\n",
      "Evaluation Results:\n",
      "Layout: forced_coordination - Average Reward: 145.0 , Standard Deviation: 13.67, Average Soup Count: 7.25\n",
      "\n",
      "['counter_circuit_o_1order_selfplay.pth', 'counter_circuit_o_1order_selfplay.pth']\n",
      "Testing layout: counter_circuit_o_1order\n",
      "Evaluation Results:\n",
      "Layout: counter_circuit_o_1order - Average Reward: 130.4 , Standard Deviation: 12.48, Average Soup Count: 6.52\n",
      "\n"
     ]
    }
   ],
   "source": [
    "for layout in LAYOUTS:\n",
    "    test_agents(agents=[f\"{layout}_selfplay\"], layouts=[layout])"
   ]
  },
  {
   "cell_type": "code",
   "execution_count": 12,
   "id": "94fdb4d6",
   "metadata": {},
   "outputs": [
    {
     "name": "stdout",
     "output_type": "stream",
     "text": [
      "['cramped_room_selfplay.pth', 'cramped_room_selfplay.pth']\n",
      "Rendering: Layout: cramped_room - Final Reward: 200 - Soup Count: 10\n",
      "['asymmetric_advantages_selfplay.pth', 'asymmetric_advantages_selfplay.pth']\n",
      "Rendering: Layout: asymmetric_advantages - Final Reward: 380 - Soup Count: 19\n",
      "['coordination_ring_selfplay.pth', 'coordination_ring_selfplay.pth']\n",
      "Rendering: Layout: coordination_ring - Final Reward: 160 - Soup Count: 8\n",
      "['forced_coordination_selfplay.pth', 'forced_coordination_selfplay.pth']\n",
      "Rendering: Layout: forced_coordination - Final Reward: 140 - Soup Count: 7\n",
      "['counter_circuit_o_1order_selfplay.pth', 'counter_circuit_o_1order_selfplay.pth']\n",
      "Rendering: Layout: counter_circuit_o_1order - Final Reward: 120 - Soup Count: 6\n"
     ]
    }
   ],
   "source": [
    "for layout in LAYOUTS:\n",
    "    render_episodes(agents=[f\"{layout}_selfplay\"], layouts=[layout])"
   ]
  },
  {
   "cell_type": "markdown",
   "id": "779e8a49",
   "metadata": {},
   "source": [
    "## Generalized Self-play Demo"
   ]
  },
  {
   "cell_type": "code",
   "execution_count": 13,
   "id": "a41d1a7a",
   "metadata": {},
   "outputs": [],
   "source": [
    "LAYOUTS = [\n",
    "    \"cramped_room\",\n",
    "    \"asymmetric_advantages\",\n",
    "    \"coordination_ring\",\n",
    "    \"simple_o\",\n",
    "    \"forced_coordination\",\n",
    "    \"counter_circuit_o_1order\",\n",
    "]"
   ]
  },
  {
   "cell_type": "code",
   "execution_count": 14,
   "id": "82e8165b",
   "metadata": {},
   "outputs": [
    {
     "name": "stdout",
     "output_type": "stream",
     "text": [
      "['generalized_selfplay.pth', 'generalized_selfplay.pth']\n",
      "Testing layout: cramped_room\n",
      "Testing layout: asymmetric_advantages\n",
      "Testing layout: coordination_ring\n",
      "Testing layout: simple_o\n",
      "Testing layout: forced_coordination\n",
      "Testing layout: counter_circuit_o_1order\n",
      "Evaluation Results:\n",
      "Layout: cramped_room - Average Reward: 203.2 , Standard Deviation: 14.34, Average Soup Count: 10.16\n",
      "\n",
      "Layout: asymmetric_advantages - Average Reward: 221.8 , Standard Deviation: 12.99, Average Soup Count: 11.09\n",
      "\n",
      "Layout: coordination_ring - Average Reward: 135.8 , Standard Deviation: 14.50, Average Soup Count: 6.79\n",
      "\n",
      "Layout: simple_o - Average Reward: 27.4 , Standard Deviation: 13.46, Average Soup Count: 1.37\n",
      "\n",
      "Layout: forced_coordination - Average Reward: 0.0 , Standard Deviation: 0.00, Average Soup Count: 0.0\n",
      "\n",
      "Layout: counter_circuit_o_1order - Average Reward: 0.0 , Standard Deviation: 0.00, Average Soup Count: 0.0\n",
      "\n"
     ]
    }
   ],
   "source": [
    "test_agents(agents=[\"generalized_selfplay\"], layouts=LAYOUTS)"
   ]
  },
  {
   "cell_type": "code",
   "execution_count": 15,
   "id": "bdd700fa",
   "metadata": {},
   "outputs": [
    {
     "name": "stdout",
     "output_type": "stream",
     "text": [
      "['generalized_selfplay.pth', 'generalized_selfplay.pth']\n",
      "Rendering: Layout: cramped_room - Final Reward: 220 - Soup Count: 11\n",
      "Rendering: Layout: asymmetric_advantages - Final Reward: 180 - Soup Count: 9\n",
      "Rendering: Layout: coordination_ring - Final Reward: 120 - Soup Count: 6\n",
      "Rendering: Layout: simple_o - Final Reward: 20 - Soup Count: 1\n",
      "Rendering: Layout: forced_coordination - Final Reward: 0 - Soup Count: 0\n",
      "Rendering: Layout: counter_circuit_o_1order - Final Reward: 0 - Soup Count: 0\n"
     ]
    }
   ],
   "source": [
    "render_episodes(agents=[\"generalized_selfplay\"], layouts=LAYOUTS)"
   ]
  },
  {
   "cell_type": "markdown",
   "id": "6bd32d85",
   "metadata": {},
   "source": [
    "## Single-Layout Randomized Demo"
   ]
  },
  {
   "cell_type": "code",
   "execution_count": 4,
   "id": "2532298c",
   "metadata": {},
   "outputs": [],
   "source": [
    "LAYOUTS = [\n",
    "    \"cramped_room\",\n",
    "    \"asymmetric_advantages\",\n",
    "    \"coordination_ring\",\n",
    "]"
   ]
  },
  {
   "cell_type": "code",
   "execution_count": 17,
   "id": "ed0114ed",
   "metadata": {},
   "outputs": [
    {
     "name": "stdout",
     "output_type": "stream",
     "text": [
      "['cramped_room_random.pth', 'random']\n",
      "Testing layout: cramped_room\n",
      "Evaluation Results:\n",
      "Layout: cramped_room - Average Reward: 132.0 , Standard Deviation: 22.80, Average Soup Count: 6.6\n",
      "\n",
      "['asymmetric_advantages_random.pth', 'random']\n",
      "Testing layout: asymmetric_advantages\n",
      "Evaluation Results:\n",
      "Layout: asymmetric_advantages - Average Reward: 180.2 , Standard Deviation: 4.47, Average Soup Count: 9.01\n",
      "\n",
      "['coordination_ring_random.pth', 'random']\n",
      "Testing layout: coordination_ring\n",
      "Evaluation Results:\n",
      "Layout: coordination_ring - Average Reward: 54.2 , Standard Deviation: 20.84, Average Soup Count: 2.71\n",
      "\n"
     ]
    }
   ],
   "source": [
    "for layout in LAYOUTS:\n",
    "    test_agents(agents=[f\"{layout}_random\", 'random'], layouts=[layout])"
   ]
  },
  {
   "cell_type": "code",
   "execution_count": 21,
   "id": "14f93036",
   "metadata": {},
   "outputs": [
    {
     "name": "stdout",
     "output_type": "stream",
     "text": [
      "['cramped_room_random.pth', 'idle']\n",
      "Rendering: Layout: cramped_room - Final Reward: 160 - Soup Count: 8\n",
      "['asymmetric_advantages_random.pth', 'idle']\n",
      "Rendering: Layout: asymmetric_advantages - Final Reward: 180 - Soup Count: 9\n",
      "['idle', 'coordination_ring_random.pth']\n",
      "Rendering: Layout: coordination_ring - Final Reward: 140 - Soup Count: 7\n"
     ]
    }
   ],
   "source": [
    "for layout in LAYOUTS:\n",
    "    if layout != 'coordination_ring':\n",
    "        render_episodes(agents=[f\"{layout}_random\", 'idle'], layouts=[layout])\n",
    "    else:\n",
    "        render_episodes(agents=[\"idle\", f\"{layout}_random\"], layouts=[layout])"
   ]
  },
  {
   "cell_type": "markdown",
   "id": "6bcfcf59",
   "metadata": {},
   "source": [
    "## Generalized Randomized Demo"
   ]
  },
  {
   "cell_type": "code",
   "execution_count": 6,
   "id": "c0a92e46",
   "metadata": {},
   "outputs": [
    {
     "name": "stdout",
     "output_type": "stream",
     "text": [
      "['generalized_random.pth', 'generalized_random.pth']\n",
      "Testing layout: cramped_room\n",
      "Testing layout: asymmetric_advantages\n",
      "Testing layout: coordination_ring\n",
      "Evaluation Results:\n",
      "Layout: cramped_room - Average Reward: 176.8 , Standard Deviation: 17.37, Average Soup Count: 8.84\n",
      "\n",
      "Layout: asymmetric_advantages - Average Reward: 129.6 , Standard Deviation: 30.79, Average Soup Count: 6.48\n",
      "\n",
      "Layout: coordination_ring - Average Reward: 15.8 , Standard Deviation: 15.31, Average Soup Count: 0.79\n",
      "\n"
     ]
    }
   ],
   "source": [
    "test_agents(agents=[\"generalized_random\"], layouts=LAYOUTS)"
   ]
  },
  {
   "cell_type": "code",
   "execution_count": 8,
   "id": "4bfd4958",
   "metadata": {},
   "outputs": [
    {
     "name": "stdout",
     "output_type": "stream",
     "text": [
      "['generalized_random.pth', 'generalized_random.pth']\n",
      "Rendering: Layout: cramped_room - Final Reward: 160 - Soup Count: 8\n",
      "Rendering: Layout: asymmetric_advantages - Final Reward: 160 - Soup Count: 8\n",
      "Rendering: Layout: coordination_ring - Final Reward: 20 - Soup Count: 1\n"
     ]
    }
   ],
   "source": [
    "render_episodes(agents=[\"generalized_random\"], layouts=LAYOUTS)"
   ]
  },
  {
   "cell_type": "code",
   "execution_count": 9,
   "id": "c4142340",
   "metadata": {},
   "outputs": [
    {
     "name": "stdout",
     "output_type": "stream",
     "text": [
      "['random', 'generalized_random.pth']\n",
      "Rendering: Layout: cramped_room - Final Reward: 80 - Soup Count: 4\n",
      "Rendering: Layout: asymmetric_advantages - Final Reward: 0 - Soup Count: 0\n",
      "Rendering: Layout: coordination_ring - Final Reward: 0 - Soup Count: 0\n"
     ]
    }
   ],
   "source": [
    "render_episodes(agents=['random', \"generalized_random\"], layouts=LAYOUTS)"
   ]
  }
 ],
 "metadata": {
  "kernelspec": {
   "display_name": ".venv",
   "language": "python",
   "name": "python3"
  },
  "language_info": {
   "codemirror_mode": {
    "name": "ipython",
    "version": 3
   },
   "file_extension": ".py",
   "mimetype": "text/x-python",
   "name": "python",
   "nbconvert_exporter": "python",
   "pygments_lexer": "ipython3",
   "version": "3.10.17"
  }
 },
 "nbformat": 4,
 "nbformat_minor": 5
}
